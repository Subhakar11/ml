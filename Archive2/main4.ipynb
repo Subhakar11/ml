{
 "cells": [
  {
   "cell_type": "code",
   "execution_count": 4,
   "metadata": {},
   "outputs": [
    {
     "name": "stdout",
     "output_type": "stream",
     "text": [
      "Extracted width: \n",
      "Extracted height: \n",
      "Extracted depth: \n",
      "Extracted voltage: \n",
      "Extracted wattage: 40 w\n",
      "Extracted item_weight: \n",
      "Extracted maximum_weight_recommendation: \n"
     ]
    }
   ],
   "source": [
    "import pytesseract\n",
    "import re\n",
    "from PIL import Image\n",
    "\n",
    "# Set the path for tesseract if needed\n",
    "# pytesseract.pytesseract.tesseract_cmd = r'/usr/local/bin/tesseract'\n",
    "\n",
    "def extract_value_from_text(text, entity_name):\n",
    "    # Normalize the text to lower case\n",
    "    text = text.lower()\n",
    "    \n",
    "    # Define regex patterns for different entities\n",
    "    entity_patterns = {\n",
    "        'width': r'(\\d+(\\.\\d+)?)\\s*(cm|mm|inches|inch|m|in|centimetre|foot|millimetre|metre|yard)',\n",
    "        'height': r'(\\d+(\\.\\d+)?)\\s*(cm|mm|inches|inch|m|in|centimetre|foot|millimetre|metre|yard)',\n",
    "        'depth': r'(\\d+(\\.\\d+)?)\\s*(cm|mm|inches|inch|m|in|centimetre|foot|millimetre|metre|yard)',\n",
    "        'voltage': r'(\\d+(\\.\\d+)?)\\s*(volt|v|mv|millivolt|kv|kilovolt)',\n",
    "        'wattage': r'(\\d+(\\.\\d+)?)\\s*(watt|kw|w|kilowatt)',\n",
    "        'item_weight': r'(\\d+(\\.\\d+)?)\\s*(kg|g|gram|ton|mg|milligram|kilogram|microgram|ounce|ton|pound|lbs)',\n",
    "        'maximum_weight_recommendation': r'(\\d+(\\.\\d+)?)\\s*(kg|g|gram|ton|mg|milligram|kilogram|microgram|ounce|ton|pound|lbs)'\n",
    "    }\n",
    "    \n",
    "    # Find the matching pattern based on the entity\n",
    "    pattern = entity_patterns.get(entity_name)\n",
    "    \n",
    "    if pattern:\n",
    "        # Search for the pattern in the text\n",
    "        match = re.search(pattern, text)\n",
    "        if match:\n",
    "            value = match.group(1)  # Extract the numeric value\n",
    "            unit = match.group(3)   # Extract the unit\n",
    "            return f\"{value} {unit}\"\n",
    "    \n",
    "    # If no match is found, return blank\n",
    "    return \"\"\n",
    "\n",
    "def process_image(image_path, entity_name):\n",
    "    # Open the image using PIL\n",
    "    image = Image.open(image_path)\n",
    "    \n",
    "    # Use pytesseract to extract text from image\n",
    "    extracted_text = pytesseract.image_to_string(image)\n",
    "    \n",
    "    # Extract the entity value from the extracted text\n",
    "    extracted_value = extract_value_from_text(extracted_text, entity_name)\n",
    "    \n",
    "    return extracted_value\n",
    "\n",
    "# Example usage for multiple entities\n",
    "image_path = '/Users/kaustubh/Downloads/student_resource 3/images/41nblnEkJ3L.jpg'  # Replace with your actual image path\n",
    "\n",
    "entities = ['width', 'height', 'depth', 'voltage', 'wattage', 'item_weight', 'maximum_weight_recommendation']\n",
    "\n",
    "for entity in entities:\n",
    "    value = process_image(image_path, entity)\n",
    "    print(f\"Extracted {entity}: {value}\")\n"
   ]
  }
 ],
 "metadata": {
  "kernelspec": {
   "display_name": ".venv",
   "language": "python",
   "name": "python3"
  },
  "language_info": {
   "codemirror_mode": {
    "name": "ipython",
    "version": 3
   },
   "file_extension": ".py",
   "mimetype": "text/x-python",
   "name": "python",
   "nbconvert_exporter": "python",
   "pygments_lexer": "ipython3",
   "version": "3.11.5"
  }
 },
 "nbformat": 4,
 "nbformat_minor": 2
}
