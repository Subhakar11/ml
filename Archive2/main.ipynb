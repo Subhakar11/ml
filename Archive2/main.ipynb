{
 "cells": [
  {
   "cell_type": "code",
   "execution_count": 2,
   "metadata": {},
   "outputs": [],
   "source": [
    "import pandas as pd\n",
    "from sklearn.model_selection import train_test_split\n",
    "from sklearn.preprocessing import LabelEncoder\n",
    "from sklearn.ensemble import RandomForestClassifier\n",
    "from sklearn.metrics import accuracy_score\n"
   ]
  },
  {
   "cell_type": "code",
   "execution_count": 3,
   "metadata": {},
   "outputs": [
    {
     "name": "stdout",
     "output_type": "stream",
     "text": [
      "   index                                         image_link  group_id  \\\n",
      "0      0  https://m.media-amazon.com/images/I/41-NCxNuBx...    658003   \n",
      "1      1  https://m.media-amazon.com/images/I/41-NCxNuBx...    658003   \n",
      "2      2  https://m.media-amazon.com/images/I/417NJrPEk+...    939426   \n",
      "3      3  https://m.media-amazon.com/images/I/417SThj+Sr...    276700   \n",
      "4      4  https://m.media-amazon.com/images/I/417SThj+Sr...    276700   \n",
      "\n",
      "                     entity_name  \n",
      "0                          width  \n",
      "1                          depth  \n",
      "2  maximum_weight_recommendation  \n",
      "3                        voltage  \n",
      "4                        wattage  \n"
     ]
    }
   ],
   "source": [
    "\n",
    "# Load the CSV file\n",
    "df = pd.read_csv('dataset/sample_test.csv')\n",
    "\n",
    "# Inspect the data (optional)\n",
    "print(df.head())\n"
   ]
  },
  {
   "cell_type": "code",
   "execution_count": 4,
   "metadata": {},
   "outputs": [],
   "source": [
    "\n",
    "# Preprocess the data\n",
    "# We'll extract 'group_id' and encode the target 'entity_name'\n",
    "df['group_id'] = df['group_id'].fillna(0).astype(int)  # Fill missing and convert to int\n",
    "df['image_link'] = df['image_link'].apply(lambda x: x.split('/')[-1].split('.')[0])  # Extract image identifier\n",
    "\n",
    "# Encode 'entity_name' target column (classification target)\n",
    "label_encoder = LabelEncoder()\n",
    "df['entity_label'] = label_encoder.fit_transform(df['entity_name'])\n",
    "\n",
    "# Define features (X) and target (y) for entity classification\n",
    "X = df[['group_id', 'image_link']]  # For simplicity, we'll only use 'group_id' and 'image_link'\n",
    "y = df['entity_label']\n"
   ]
  },
  {
   "cell_type": "code",
   "execution_count": 13,
   "metadata": {},
   "outputs": [
    {
     "name": "stdout",
     "output_type": "stream",
     "text": [
      "[6 0 3 4 5 2 1]\n"
     ]
    }
   ],
   "source": [
    "\n",
    "unique_values = df['entity_label'].unique()\n",
    "print(unique_values)\n"
   ]
  },
  {
   "cell_type": "code",
   "execution_count": null,
   "metadata": {},
   "outputs": [],
   "source": [
    "\n",
    "# Split the data into training and test sets\n",
    "X_train, X_test, y_train, y_test = train_test_split(X, y, test_size=0.2, random_state=42)\n",
    "\n",
    "# Use RandomForestClassifier as an example\n",
    "entity_classifier = RandomForestClassifier(n_estimators=100, random_state=42)\n",
    "\n",
    "# Train the model to predict entity (classification task)\n",
    "entity_classifier.fit(X_train, y_train)\n",
    "\n",
    "# Make predictions\n",
    "y_pred_entity = entity_classifier.predict(X_test)\n",
    "\n",
    "# Evaluate the model (classification)\n",
    "accuracy = accuracy_score(y_test, y_pred_entity)\n",
    "print(f\"Entity Prediction Accuracy: {accuracy * 100:.2f}%\")\n",
    "\n",
    "# Decode predicted entities\n",
    "y_pred_entity_labels = label_encoder.inverse_transform(y_pred_entity)\n"
   ]
  },
  {
   "cell_type": "code",
   "execution_count": null,
   "metadata": {},
   "outputs": [],
   "source": [
    "from sklearn.linear_model import LinearRegression\n",
    "from sklearn.metrics import mean_squared_error\n",
    "\n",
    "# Filter the dataset for 'width' predictions (for example)\n",
    "width_df = df[df['entity_name'] == 'width']\n",
    "\n",
    "# Define X (input features) and y (target value) for regression\n",
    "X_width = width_df[['group_id', 'image_link']]\n",
    "y_width = width_df['data']  # Assuming 'data' column holds the actual value (e.g., width in cm)\n",
    "\n",
    "# Split the data into training and test sets for width prediction\n",
    "X_train_width, X_test_width, y_train_width, y_test_width = train_test_split(X_width, y_width, test_size=0.2, random_state=42)\n",
    "\n",
    "# Use a Linear Regression model for simplicity (or any other regression model)\n",
    "regression_model = LinearRegression()\n",
    "\n",
    "# Train the regression model\n",
    "regression_model.fit(X_train_width, y_train_width)\n",
    "\n",
    "# Make predictions\n",
    "y_pred_width = regression_model.predict(X_test_width)\n",
    "\n",
    "# Evaluate the model (regression)\n",
    "mse = mean_squared_error(y_test_width, y_pred_width)\n",
    "print(f\"Mean Squared Error for Width Prediction: {mse:.2f}\")\n"
   ]
  }
 ],
 "metadata": {
  "kernelspec": {
   "display_name": ".venv",
   "language": "python",
   "name": "python3"
  },
  "language_info": {
   "codemirror_mode": {
    "name": "ipython",
    "version": 3
   },
   "file_extension": ".py",
   "mimetype": "text/x-python",
   "name": "python",
   "nbconvert_exporter": "python",
   "pygments_lexer": "ipython3",
   "version": "3.11.5"
  }
 },
 "nbformat": 4,
 "nbformat_minor": 2
}
