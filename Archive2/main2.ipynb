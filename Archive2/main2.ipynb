{
 "cells": [
  {
   "cell_type": "code",
   "execution_count": 4,
   "metadata": {},
   "outputs": [],
   "source": [
    "import pytesseract\n",
    "from PIL import Image\n",
    "import re\n"
   ]
  },
  {
   "cell_type": "code",
   "execution_count": 15,
   "metadata": {},
   "outputs": [],
   "source": [
    "\n",
    "def extract_text_from_image(image_path):\n",
    "    # Load image using PIL\n",
    "    image = Image.open(image_path)\n",
    "    \n",
    "    # Use Tesseract OCR to extract text from image\n",
    "    extracted_text = pytesseract.image_to_string(image)\n",
    "    print( extracted_text)\n",
    "\n",
    "    return extracted_text\n",
    "\n",
    "def extract_value_from_text(extracted_text, entity_name):\n",
    "    # Define regular expressions for detecting measurements (can be adjusted)\n",
    "    regex_patterns = {\n",
    "        'width': r'width[\\s:]*([0-9]+(?:\\.[0-9]*)?)',\n",
    "        'height': r'height[\\s:]*([0-9]+(?:\\.[0-9]*)?)',\n",
    "        'depth': r'depth[\\s:]*([0-9]+(?:\\.[0-9]*)?)',\n",
    "        'voltage': r'voltage[\\s:]*([0-9]+(?:\\.[0-9]*)?)',\n",
    "        'wattage': r'wattage[\\s:]*([0-9]+(?:\\.[0-9]*)?)',\n",
    "        # Add more entities and patterns as needed\n",
    "    }\n",
    "    \n",
    "    if entity_name in regex_patterns:\n",
    "        # Search for the pattern in extracted text\n",
    "        match = re.search(regex_patterns[entity_name], extracted_text, re.IGNORECASE)\n",
    "        if match:\n",
    "            return match.group(1)  # Extract the matched value\n",
    "    \n",
    "    return ''  # Return blank if not found\n",
    "\n",
    "def predictor(image_path, entity_name):\n",
    "    # Extract text from image\n",
    "    extracted_text = extract_text_from_image(image_path)\n",
    "    \n",
    "    # Extract value based on entity name\n",
    "    value = extract_value_from_text(extracted_text, entity_name)\n",
    "    \n",
    "    return value\n"
   ]
  },
  {
   "cell_type": "code",
   "execution_count": 16,
   "metadata": {},
   "outputs": [
    {
     "name": "stdout",
     "output_type": "stream",
     "text": [
      "20CM\n",
      "\n",
      "15C\n",
      "\n",
      "\n",
      "\n"
     ]
    }
   ],
   "source": [
    "\n",
    "# Example usage:\n",
    "image_path = '/Users/kaustubh/Downloads/student_resource 3/images/41-NCxNuBxL.jpg'\n",
    "entity_name = 'width'  # or 'depth', 'voltage', etc.\n",
    "predicted_value = predictor(image_path, entity_name)\n",
    "print(predicted_value)\n"
   ]
  },
  {
   "cell_type": "code",
   "execution_count": 14,
   "metadata": {},
   "outputs": [
    {
     "ename": "NameError",
     "evalue": "name 'extract_text' is not defined",
     "output_type": "error",
     "traceback": [
      "\u001b[0;31m---------------------------------------------------------------------------\u001b[0m",
      "\u001b[0;31mNameError\u001b[0m                                 Traceback (most recent call last)",
      "Cell \u001b[0;32mIn[14], line 1\u001b[0m\n\u001b[0;32m----> 1\u001b[0m \u001b[43mextract_text\u001b[49m\n",
      "\u001b[0;31mNameError\u001b[0m: name 'extract_text' is not defined"
     ]
    }
   ],
   "source": [
    "extract_text"
   ]
  }
 ],
 "metadata": {
  "kernelspec": {
   "display_name": ".venv",
   "language": "python",
   "name": "python3"
  },
  "language_info": {
   "codemirror_mode": {
    "name": "ipython",
    "version": 3
   },
   "file_extension": ".py",
   "mimetype": "text/x-python",
   "name": "python",
   "nbconvert_exporter": "python",
   "pygments_lexer": "ipython3",
   "version": "3.11.5"
  }
 },
 "nbformat": 4,
 "nbformat_minor": 2
}
