{
 "cells": [
  {
   "cell_type": "code",
   "execution_count": null,
   "metadata": {},
   "outputs": [],
   "source": [
    "import re\n",
    "import pytesseract\n",
    "import pandas as pd\n",
    "from PIL import Image\n",
    "\n",
    "# ... (rest of the code remains the same until the download_image function)\n",
    "\n",
    "# Modified function to read image from local file\n",
    "def read_image_from_file(image_path):\n",
    "    img = Image.open(image_path)\n",
    "    return img\n",
    "\n",
    "# ... (rest of the code remains the same until the process_images_for_entities function)\n",
    "\n",
    "def process_images_for_entities(df):\n",
    "    predictions = []\n",
    "    \n",
    "    for index, row in df.iterrows():\n",
    "        image_path = row[\"image_link\"]  # assume image_link column contains the file path\n",
    "        entity_name = row[\"entity_name\"]\n",
    "        \n",
    "        # Read image from local file\n",
    "        image = read_image_from_file(image_path)\n",
    "        \n",
    "        # Extract text from image\n",
    "        text = extract_text_from_image(image)\n",
    "        \n",
    "        # Extract entity value from text\n",
    "        extracted_value = extract_entity_from_text(text, entity_name)\n",
    "        \n",
    "        # Append result to predictions list\n",
    "        predictions.append({\"index\": row[\"index\"], \"prediction\": extracted_value})\n",
    "    \n",
    "    return pd.DataFrame(predictions)\n",
    "\n",
    "# Example usage:\n",
    "test_df = pd.read_csv(\"\\dataset\\sample_test.csv\")\n",
    "result_df = process_images_for_entities(test_df)\n",
    "result_df.to_csv(\"predictions.csv\", index=False)"
   ]
  }
 ],
 "metadata": {
  "language_info": {
   "name": "python"
  }
 },
 "nbformat": 4,
 "nbformat_minor": 2
}
