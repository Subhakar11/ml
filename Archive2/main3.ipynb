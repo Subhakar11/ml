{
 "cells": [
  {
   "cell_type": "code",
   "execution_count": 1,
   "metadata": {},
   "outputs": [],
   "source": [
    "import re\n",
    "import pytesseract\n",
    "from PIL import Image\n"
   ]
  },
  {
   "cell_type": "code",
   "execution_count": 2,
   "metadata": {},
   "outputs": [],
   "source": [
    "\n",
    "# Function to extract text from an image using pytesseract OCR\n",
    "def extract_text_from_image(image_path):\n",
    "    try:\n",
    "        image = Image.open(image_path)\n",
    "        text = pytesseract.image_to_string(image)\n",
    "        return text\n",
    "    except Exception as e:\n",
    "        print(f\"Error opening or processing image: {e}\")\n",
    "        return \"\"\n",
    "\n",
    "# Function to infer entity values (e.g., width, height) from the OCR-extracted text\n",
    "def infer_entity_values_from_text(text):\n",
    "    # Initialize empty dictionary to hold extracted values\n",
    "    extracted_values = {}\n",
    "\n",
    "    # Regex pattern to extract numbers followed by common units (cm, mm, kg, etc.)\n",
    "    pattern = r'(\\d+)\\s*(cm|mm|kg|m|C)'\n",
    "\n",
    "    # Find all matches that fit the pattern\n",
    "    matches = re.findall(pattern, text, re.IGNORECASE)\n",
    "    \n",
    "    # Iterate through the matches and infer the dimension/entity\n",
    "    for match in matches:\n",
    "        value, unit = match\n",
    "        value = value.strip()  # Clean the extracted value\n",
    "        unit = unit.lower()\n",
    "\n",
    "        # Infer width and height based on number of extracted dimensions\n",
    "        if unit == 'cm' or unit == 'c':  # Handle both \"cm\" and incorrectly recognized \"C\"\n",
    "            if \"width\" not in extracted_values:\n",
    "                extracted_values[\"width\"] = f\"{value} cm\"\n",
    "            elif \"height\" not in extracted_values:\n",
    "                extracted_values[\"height\"] = f\"{value} cm\"\n",
    "            else:\n",
    "                extracted_values[\"depth\"] = f\"{value} cm\"\n",
    "\n",
    "    return extracted_values\n",
    "\n",
    "# Complete process function: loads image, extracts text, and infers values\n",
    "def process_image_for_entity_values(image_path, expected_entity):\n",
    "    # Extract text from the image\n",
    "    extracted_text = extract_text_from_image(image_path)\n",
    "\n",
    "    # Infer entity values from the extracted text\n",
    "    inferred_values = infer_entity_values_from_text(extracted_text)\n",
    "\n",
    "    # Return the value for the expected entity if it exists, or blank otherwise\n",
    "    return inferred_values.get(expected_entity, \"\")\n"
   ]
  },
  {
   "cell_type": "code",
   "execution_count": 3,
   "metadata": {},
   "outputs": [
    {
     "name": "stdout",
     "output_type": "stream",
     "text": [
      "Extracted value for width: 20 cm\n"
     ]
    }
   ],
   "source": [
    "\n",
    "# Test the function on a sample image (replace with actual image path and expected entity)\n",
    "image_path = '/Users/kaustubh/Downloads/student_resource 3/images/41-NCxNuBxL.jpg'  # Replace with your actual image path\n",
    "expected_entity = 'width'  # Specify the expected entity (e.g., 'width', 'height', etc.)\n",
    "\n",
    "# Run the process\n",
    "extracted_value = process_image_for_entity_values(image_path, expected_entity)\n",
    "\n",
    "print(f\"Extracted value for {expected_entity}: {extracted_value}\")\n"
   ]
  }
 ],
 "metadata": {
  "kernelspec": {
   "display_name": ".venv",
   "language": "python",
   "name": "python3"
  },
  "language_info": {
   "codemirror_mode": {
    "name": "ipython",
    "version": 3
   },
   "file_extension": ".py",
   "mimetype": "text/x-python",
   "name": "python",
   "nbconvert_exporter": "python",
   "pygments_lexer": "ipython3",
   "version": "3.11.5"
  }
 },
 "nbformat": 4,
 "nbformat_minor": 2
}
